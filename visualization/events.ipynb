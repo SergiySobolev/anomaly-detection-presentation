{
 "cells": [
  {
   "cell_type": "code",
   "execution_count": 1,
   "metadata": {
    "pycharm": {
     "name": "#%%\n"
    }
   },
   "outputs": [
    {
     "data": {
      "text/plain": "                      arrival_time  audience_interest  audience_range  \\\n0 2020-11-10 18:36:36.311920+00:00               3474             309   \n1 2020-11-10 18:36:36.396644+00:00               1497             112   \n2 2020-11-10 18:36:36.224847+00:00               3970             346   \n3 2020-11-10 18:36:36.249856+00:00               3479             225   \n4 2020-11-10 18:58:39.183578+00:00               3962             120   \n\n  subscriber_id  \n0        000001  \n1        000001  \n2        000001  \n3        000001  \n4        000001  ",
      "text/html": "<div>\n<style scoped>\n    .dataframe tbody tr th:only-of-type {\n        vertical-align: middle;\n    }\n\n    .dataframe tbody tr th {\n        vertical-align: top;\n    }\n\n    .dataframe thead th {\n        text-align: right;\n    }\n</style>\n<table border=\"1\" class=\"dataframe\">\n  <thead>\n    <tr style=\"text-align: right;\">\n      <th></th>\n      <th>arrival_time</th>\n      <th>audience_interest</th>\n      <th>audience_range</th>\n      <th>subscriber_id</th>\n    </tr>\n  </thead>\n  <tbody>\n    <tr>\n      <th>0</th>\n      <td>2020-11-10 18:36:36.311920+00:00</td>\n      <td>3474</td>\n      <td>309</td>\n      <td>000001</td>\n    </tr>\n    <tr>\n      <th>1</th>\n      <td>2020-11-10 18:36:36.396644+00:00</td>\n      <td>1497</td>\n      <td>112</td>\n      <td>000001</td>\n    </tr>\n    <tr>\n      <th>2</th>\n      <td>2020-11-10 18:36:36.224847+00:00</td>\n      <td>3970</td>\n      <td>346</td>\n      <td>000001</td>\n    </tr>\n    <tr>\n      <th>3</th>\n      <td>2020-11-10 18:36:36.249856+00:00</td>\n      <td>3479</td>\n      <td>225</td>\n      <td>000001</td>\n    </tr>\n    <tr>\n      <th>4</th>\n      <td>2020-11-10 18:58:39.183578+00:00</td>\n      <td>3962</td>\n      <td>120</td>\n      <td>000001</td>\n    </tr>\n  </tbody>\n</table>\n</div>"
     },
     "execution_count": 1,
     "metadata": {},
     "output_type": "execute_result"
    }
   ],
   "source": [
    "from google.cloud import bigquery\n",
    "\n",
    "bigquery_client = bigquery.Client()\n",
    "\n",
    "query = \"\"\"\n",
    "        SELECT t0.arrival_time,\n",
    "               t0.audience_interest,\n",
    "               t0.audience_range,\n",
    "               t0.\n",
    "               t0.subscriber_id\n",
    "        FROM `anomaly-detection-presentation.work_ds.audience_events_data` AS t0;\n",
    "        \"\"\"\n",
    "\n",
    "query_job = bigquery_client.query(query)\n",
    "\n",
    "df = query_job.to_dataframe()\n",
    "\n",
    "df.head()\n",
    "\n"
   ]
  },
  {
   "cell_type": "code",
   "execution_count": 1,
   "outputs": [],
   "source": [],
   "metadata": {
    "collapsed": false,
    "pycharm": {
     "name": "#%%\n"
    }
   }
  },
  {
   "cell_type": "code",
   "execution_count": 1,
   "outputs": [],
   "source": [],
   "metadata": {
    "collapsed": false,
    "pycharm": {
     "name": "#%%\n"
    }
   }
  },
  {
   "cell_type": "code",
   "execution_count": null,
   "metadata": {},
   "outputs": [],
   "source": []
  },
  {
   "cell_type": "code",
   "execution_count": null,
   "metadata": {},
   "outputs": [],
   "source": []
  }
 ],
 "metadata": {
  "kernelspec": {
   "name": "pycharm-48f3764e",
   "language": "python",
   "display_name": "PyCharm (anomaly-detection)"
  },
  "language_info": {
   "codemirror_mode": {
    "name": "ipython",
    "version": 3
   },
   "file_extension": ".py",
   "mimetype": "text/x-python",
   "name": "python",
   "nbconvert_exporter": "python",
   "pygments_lexer": "ipython3",
   "version": "3.8.5"
  }
 },
 "nbformat": 4,
 "nbformat_minor": 1
}