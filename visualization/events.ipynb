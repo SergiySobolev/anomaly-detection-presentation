{
 "cells": [
  {
   "cell_type": "code",
   "execution_count": 13,
   "metadata": {
    "pycharm": {
     "name": "#%%\n"
    }
   },
   "outputs": [],
   "source": [
    "from google.cloud import bigquery\n",
    "import matplotlib.pyplot as plt\n",
    "%matplotlib inline\n",
    "\n",
    "bigquery_client = bigquery.Client()\n",
    "\n",
    "query = \"\"\"\n",
    "        SELECT t0.arrival_time,\n",
    "               t0.audience_interest,\n",
    "               t0.audience_range,\n",
    "               t0.source\n",
    "        FROM `anomaly-detection-presentation.work_ds.audience_events_data` AS t0;\n",
    "        \"\"\"\n",
    "\n",
    "query_job = bigquery_client.query(query)\n",
    "\n",
    "events_df = query_job.to_dataframe()\n",
    "\n",
    "pubsub_events_df = events_df[events_df['source'] == \"PUBSUB\"]\n",
    "\n",
    "storage_events_df = events_df[events_df['source'] == \"STORAGE\"]"
   ]
  },
  {
   "cell_type": "code",
   "execution_count": 14,
   "outputs": [
    {
     "data": {
      "text/plain": "<Figure size 432x288 with 1 Axes>",
      "image/png": "[encoded data removed]"
     },
     "metadata": {
      "needs_background": "light"
     },
     "output_type": "display_data"
    }
   ],
   "source": [
    "fig = plt.figure()\n",
    "ax = fig.add_subplot(111)\n",
    "ax.scatter(x=pubsub_events_df[\"audience_interest\"],\n",
    "           y=pubsub_events_df[\"audience_range\"],\n",
    "           s=10,\n",
    "           c='b',\n",
    "           label='Pubsub Events')\n",
    "\n",
    "ax.scatter(x=storage_events_df[\"audience_interest\"],\n",
    "           y=storage_events_df[\"audience_range\"],\n",
    "           s=10,\n",
    "           marker='o',\n",
    "           c='r',\n",
    "           label='Storage Events')\n",
    "\n",
    "plt.legend(loc='upper left')\n",
    "plt.show()\n",
    "\n"
   ],
   "metadata": {
    "collapsed": false,
    "pycharm": {
     "name": "#%%\n"
    }
   }
  },
  {
   "cell_type": "code",
   "execution_count": 14,
   "outputs": [],
   "source": [],
   "metadata": {
    "collapsed": false,
    "pycharm": {
     "name": "#%%\n"
    }
   }
  },
  {
   "cell_type": "code",
   "execution_count": 14,
   "outputs": [],
   "source": [],
   "metadata": {
    "collapsed": false,
    "pycharm": {
     "name": "#%%\n"
    }
   }
  },
  {
   "cell_type": "code",
   "execution_count": 14,
   "outputs": [],
   "source": [
    "\n",
    "\n"
   ],
   "metadata": {
    "collapsed": false,
    "pycharm": {
     "name": "#%%\n"
    }
   }
  },
  {
   "cell_type": "code",
   "execution_count": null,
   "metadata": {},
   "outputs": [],
   "source": []
  },
  {
   "cell_type": "code",
   "execution_count": null,
   "metadata": {},
   "outputs": [],
   "source": []
  }
 ],
 "metadata": {
  "kernelspec": {
   "name": "pycharm-48f3764e",
   "language": "python",
   "display_name": "PyCharm (anomaly-detection)"
  },
  "language_info": {
   "codemirror_mode": {
    "name": "ipython",
    "version": 3
   },
   "file_extension": ".py",
   "mimetype": "text/x-python",
   "name": "python",
   "nbconvert_exporter": "python",
   "pygments_lexer": "ipython3",
   "version": "3.8.5"
  }
 },
 "nbformat": 4,
 "nbformat_minor": 1
}